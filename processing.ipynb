{
  "nbformat": 4,
  "nbformat_minor": 0,
  "metadata": {
    "colab": {
      "name": "processing.ipynb",
      "provenance": [],
      "collapsed_sections": [
        "KSkYD7ZobOA1",
        "099f5u9BbmTh",
        "m9vl3iEi1nFL",
        "_p-5GyGXOE0a",
        "G6OQyuWOVsD6",
        "u75Yv6LwTdkq",
        "hJfGsQ0e2qig",
        "vciOPwt724kV",
        "H_edhUVyx6_c"
      ],
      "toc_visible": true,
      "include_colab_link": true
    },
    "kernelspec": {
      "name": "python3",
      "display_name": "Python 3"
    },
    "accelerator": "TPU"
  },
  "cells": [
    {
      "cell_type": "markdown",
      "metadata": {
        "id": "view-in-github",
        "colab_type": "text"
      },
      "source": [
        "<a href=\"https://colab.research.google.com/github/deusimardamiao/processamento_digital_imagens/blob/master/processing.ipynb\" target=\"_parent\"><img src=\"https://colab.research.google.com/assets/colab-badge.svg\" alt=\"Open In Colab\"/></a>"
      ]
    },
    {
      "cell_type": "code",
      "metadata": {
        "id": "pnkazCAx1ULk",
        "colab_type": "code",
        "colab": {}
      },
      "source": [
        "from google.colab import drive, files\n",
        "drive.mount('/content/gdrive', force_remount=True)"
      ],
      "execution_count": 0,
      "outputs": []
    },
    {
      "cell_type": "markdown",
      "metadata": {
        "id": "KSkYD7ZobOA1",
        "colab_type": "text"
      },
      "source": [
        "## **Carregando uma imagem**\n",
        "\n",
        "---\n",
        "\n"
      ]
    },
    {
      "cell_type": "code",
      "metadata": {
        "id": "Rgu7m4-m8SgV",
        "colab_type": "code",
        "colab": {}
      },
      "source": [
        "from skimage.io import imread # função do pacote skimage para leitura de imagens\n",
        "import matplotlib.pyplot as plt # função do pacote matplotlib para mostrar as imagens na tela\n",
        "path_to_image = '/content/gdrive/My Drive/dataset/retina.jpg' # endereço da imagem a se carregada\n",
        "imagem = imread(path_to_image) # leitura da imagem\n",
        "plt.figure(figsize=(5, 10)) # define o tamanho da janela onde a imagem será mostrada\n",
        "plt.imshow(imagem) # mostrando imagem carregada na tela\n",
        "plt.axis('off')\n",
        "print(imagem.shape) # o atributo shape mostra a forma da imagem em (altura, largura, dimensão)"
      ],
      "execution_count": 0,
      "outputs": []
    },
    {
      "cell_type": "code",
      "metadata": {
        "id": "sDlNoK6cLYfn",
        "colab_type": "code",
        "colab": {}
      },
      "source": [
        "from skimage.io import imread_collection # função do pacote skimage para carregar n imagens\n",
        "\n",
        "extensao = '/content/gdrive/My Drive/dataset/*.jpg' # endereço das imagens seguido de *.extensao_da_imagem para carregar todos os arquivos dessa extensão\n",
        "\n",
        "imagens = imread_collection(extensao) # carregando as imagens\n",
        "len(imagens) # verificando a quantidade de imagens carregadas\n",
        "\n",
        "for imagem in imagens: # iterando sobre a lista de imagens carregadas\n",
        "  print(imagem.shape)"
      ],
      "execution_count": 0,
      "outputs": []
    },
    {
      "cell_type": "markdown",
      "metadata": {
        "id": "099f5u9BbmTh",
        "colab_type": "text"
      },
      "source": [
        "## **Salvar imagem**\n",
        "\n",
        "---\n",
        "\n"
      ]
    },
    {
      "cell_type": "code",
      "metadata": {
        "id": "HxP7e3QuYm8P",
        "colab_type": "code",
        "colab": {}
      },
      "source": [
        "from skimage.io import imsave # função do pacote skimage para salvar de imagens\n",
        "\n",
        "\n",
        "path_to_image = '/content/gdrive/My Drive/dataset/imagem_salvar.jpg' # endereço\n",
        "# para salvar a imagem\n",
        "\n",
        "imsave(path_to_image, imagem) # salvando a imagem"
      ],
      "execution_count": 0,
      "outputs": []
    },
    {
      "cell_type": "markdown",
      "metadata": {
        "id": "m9vl3iEi1nFL",
        "colab_type": "text"
      },
      "source": [
        "## **Extraindo os canais**\n",
        "\n",
        "---\n",
        "\n"
      ]
    },
    {
      "cell_type": "code",
      "metadata": {
        "id": "poqOGnK01_TK",
        "colab_type": "code",
        "colab": {}
      },
      "source": [
        "fig = plt.figure(figsize=(15,30)) # Definindo a figura e seu tamanho\n",
        "\n",
        "canal_vermelho = imagem.copy() # Definindo que o plot terá 1 linha, 3 imagens, e essa será a 1ª imagem:\n",
        "canal_vermelho[..., 1] = 0 # zerando o canal verde\n",
        "canal_vermelho[..., 2] = 0 # zerando o canal azul\n",
        "a = fig.add_subplot(1, 3, 1) # fazendo plot a imagem\n",
        "a.axis('off')\n",
        "a.set_title('Vermelho')\n",
        "a.imshow(canal_vermelho)\n",
        "\n",
        "canal_verde = imagem.copy()\n",
        "canal_verde[..., 0] = 0\n",
        "canal_verde[..., 2] = 0\n",
        "b = fig.add_subplot(1, 3, 2)\n",
        "b.axis('off')\n",
        "b.set_title('Verde')\n",
        "b.imshow(canal_verde)\n",
        "\n",
        "canal_azul = imagem.copy()\n",
        "canal_azul[..., 0] = 0\n",
        "canal_azul[..., 1] = 0\n",
        "c = fig.add_subplot(1, 3, 3)\n",
        "c.axis('off')\n",
        "c.set_title('Azul')\n",
        "c.imshow(canal_azul)\n"
      ],
      "execution_count": 0,
      "outputs": []
    },
    {
      "cell_type": "markdown",
      "metadata": {
        "id": "_p-5GyGXOE0a",
        "colab_type": "text"
      },
      "source": [
        "## **Plotando as imagens**\n",
        "\n",
        "---\n",
        "\n"
      ]
    },
    {
      "cell_type": "code",
      "metadata": {
        "id": "UXVYGzFXOTTc",
        "colab_type": "code",
        "colab": {}
      },
      "source": [
        "linhas, colunas = 2, 2 # definindo quantidade de linhas e colunas desejadas"
      ],
      "execution_count": 0,
      "outputs": []
    },
    {
      "cell_type": "code",
      "metadata": {
        "id": "SNL45QOuvykR",
        "colab_type": "code",
        "colab": {}
      },
      "source": [
        "# --------- primeira maneira de plotar as imagens ---------\n",
        "fig, ax = plt.subplots(linhas, colunas, figsize=(10, 20)) # criando a figura\n",
        "fig.subplots_adjust(bottom=0.1, top=0.4) # definindo estilo\n",
        "# definindo cada posição desejada\n",
        "ax[0,0].set_title('Original') # título da imagem\n",
        "ax[0,0].axis('off')\n",
        "ax[0,0].imshow(imagem)\n",
        "ax[0,1].set_title('Vermelho')\n",
        "ax[0,1].axis('off')\n",
        "ax[0,1].imshow(canal_vermelho)\n",
        "ax[1,0].set_title('Verde')\n",
        "ax[1,0].axis('off')\n",
        "ax[1,0].imshow(canal_verde)\n",
        "ax[1,1].set_title('Azul')\n",
        "ax[1,1].axis('off')\n",
        "ax[1,1].imshow(canal_azul)"
      ],
      "execution_count": 0,
      "outputs": []
    },
    {
      "cell_type": "code",
      "metadata": {
        "id": "HAhVcl-2_a39",
        "colab_type": "code",
        "colab": {}
      },
      "source": [
        "# --------- segunda maneira de plotar as imagens ---------\n",
        "# cria-se uma lista com as imagens para plot\n",
        "imagens = [imagem, canal_vermelho, canal_verde, canal_azul]\n",
        "# cria-se uma lista de titulos para as imagens do plot\n",
        "titulos = ['Original', 'Vermelho', 'Verde', 'Azul']\n",
        "\n",
        "fig = plt.figure(figsize=(10, 20))\n",
        "for i in range(1, colunas*linhas +1):\n",
        "    fig.add_subplot(linhas, colunas, i)\n",
        "    plt.imshow(imagens[i-1])\n",
        "    plt.title(titulos[i-1])\n",
        "    plt.axis('off')\n",
        "    plt.subplots_adjust(bottom=0.1, top=0.4)\n",
        "\n",
        "plt.show()"
      ],
      "execution_count": 0,
      "outputs": []
    },
    {
      "cell_type": "markdown",
      "metadata": {
        "id": "G6OQyuWOVsD6",
        "colab_type": "text"
      },
      "source": [
        "## **Níveis de cinza**\n",
        "\n",
        "---"
      ]
    },
    {
      "cell_type": "code",
      "metadata": {
        "id": "P0HkWX97Vq2Y",
        "colab_type": "code",
        "colab": {}
      },
      "source": [
        "from skimage.color import rgb2gray # função para converter imagens rgb para níveis de cinza\n",
        "imagem_cinza = rgb2gray(imagem) # convertendo a imagem\n",
        "fig, ax = plt.subplots(1, 2, figsize=(10, 20)) # plotando o resultado\n",
        "ax[0].imshow(imagem)\n",
        "ax[0].axis('off')\n",
        "ax[0].set_title('Imagem original')\n",
        "ax[1].imshow(imagem_cinza, cmap='gray')\n",
        "ax[1].axis('off')\n",
        "ax[1].set_title('Imagem em níveis de Cinza')"
      ],
      "execution_count": 0,
      "outputs": []
    },
    {
      "cell_type": "markdown",
      "metadata": {
        "id": "u75Yv6LwTdkq",
        "colab_type": "text"
      },
      "source": [
        "## **Remoção de ruídos**\n",
        "\n",
        "---\n",
        "\n"
      ]
    },
    {
      "cell_type": "markdown",
      "metadata": {
        "id": "hJfGsQ0e2qig",
        "colab_type": "text"
      },
      "source": [
        "### Remoção de ruídos com o filtro da mediana"
      ]
    },
    {
      "cell_type": "code",
      "metadata": {
        "id": "oPRfhXn2OWb4",
        "colab_type": "code",
        "colab": {}
      },
      "source": [
        "from skimage.filters.rank import median\n",
        "from skimage.morphology import disk\n",
        "import numpy as np \n",
        "from skimage import img_as_ubyte # função que converte uma imagem para bytes com valores entre 0 e 255\n",
        "from skimage import data # banco de imagens do skimage\n",
        "\n",
        "imagem_ruido = img_as_ubyte(data.camera()) # carrega uma imagem da base de dados do Skimage\n",
        "ruido = np.random.random(imagem_ruido.shape)  # escolhe pontos aleatórios para serem os ruídos\n",
        "\n",
        "# aplicando ruídos na imagem\n",
        "imagem_ruido[ruido > 0.96] = 255 # define 96% dos pixels como branco\n",
        "imagem_ruido[ruido < 0.04] = 0 # define 4% dos pixels como preto\n",
        "\n",
        "# aplica filtro da mediana variando o valor da mediana\n",
        "imagem_mediana_1 = median(imagem_ruido, disk(1))\n",
        "imagem_mediana_2 = median(imagem_ruido, disk(2))\n",
        "imagem_mediana_15 = median(imagem_ruido, disk(15))\n",
        "\n",
        "fig, ax = plt.subplots(2, 2, figsize=(15, 8), sharex=True, sharey=True)\n",
        "ax1, ax2, ax3, ax4 = ax.ravel()\n",
        "\n",
        "ax1.imshow(imagem_ruido, 'gray')\n",
        "ax1.set_title('Imagem com ruído')\n",
        "ax1.axis('off')\n",
        "\n",
        "ax2.imshow(imagem_mediana_1, cmap='gray')\n",
        "ax2.set_title('Mediana = 1')\n",
        "ax2.axis('off')\n",
        "\n",
        "ax3.imshow(imagem_mediana_2, cmap='gray')\n",
        "ax3.set_title('Mediana = 2')\n",
        "ax3.axis('off')\n",
        "\n",
        "ax4.imshow(imagem_mediana_15, cmap='gray')\n",
        "ax4.set_title('Mediana = 15')\n",
        "ax4.axis('off')\n"
      ],
      "execution_count": 0,
      "outputs": []
    },
    {
      "cell_type": "markdown",
      "metadata": {
        "id": "vciOPwt724kV",
        "colab_type": "text"
      },
      "source": [
        "### Remoção de ruídos com o filtro square"
      ]
    },
    {
      "cell_type": "code",
      "metadata": {
        "id": "Vshz3H5UTrtV",
        "colab_type": "code",
        "colab": {}
      },
      "source": [
        "from skimage.morphology import square\n",
        "\n",
        "# aplicando square para retirar os ruídos da imagem com diferentes parâmetros\n",
        "imagem_saqure_1 = median(imagem_ruido, square(1))\n",
        "imagem_saqure_3 = median(imagem_ruido, square(3))\n",
        "imagem_saqure_10 = median(imagem_ruido, square(10))\n",
        "\n",
        "fig, ax = plt.subplots(2, 2, figsize=(15, 8), sharex=True, sharey=True)\n",
        "ax1, ax2, ax3, ax4 = ax.ravel()\n",
        "\n",
        "ax1.imshow(imagem_ruido, 'gray')\n",
        "ax1.set_title('Imagem com ruído')\n",
        "ax1.axis('off')\n",
        "\n",
        "ax2.imshow(imagem_saqure_1, cmap='gray')\n",
        "ax2.set_title('Square = 1')\n",
        "ax2.axis('off')\n",
        "\n",
        "ax3.imshow(imagem_saqure_3, cmap='gray')\n",
        "ax3.set_title('Square = 3')\n",
        "ax3.axis('off')\n",
        "\n",
        "ax4.imshow(imagem_saqure_10, cmap='gray')\n",
        "ax4.set_title('Square = 10')\n",
        "ax4.axis('off')"
      ],
      "execution_count": 0,
      "outputs": []
    },
    {
      "cell_type": "markdown",
      "metadata": {
        "id": "H_edhUVyx6_c",
        "colab_type": "text"
      },
      "source": [
        "## **Filtros de borda**\n",
        "\n",
        "---\n"
      ]
    },
    {
      "cell_type": "code",
      "metadata": {
        "id": "6hCCcAxyyDsH",
        "colab_type": "code",
        "colab": {}
      },
      "source": [
        "# Importação dos filtros de bordas\n",
        "from skimage.filters import sobel, roberts, prewitt, scharr\n",
        "import matplotlib.pyplot as plt\n",
        "\n",
        "# importação de dados, para utilizar imagens do próprio skimage\n",
        "from skimage import data\n",
        "\n",
        "# carregando imagem horse\n",
        "cavalo = data.horse()\n",
        "\n",
        "# Pegando as bordas\n",
        "contorno_sobel = sobel(cavalo) # aplicando filtro Sobel\n",
        "contorno_roberts = roberts(cavalo) # aplicando filtro\n",
        "contorno_prewitt = prewitt(cavalo) # aplicando filtro Prewitt\n",
        "contorno_scharr = scharr(cavalo) # aplicando filtro Scharr\n",
        "\n",
        "# plotando resultado\n",
        "imagens = [cavalo, contorno_sobel, contorno_roberts, contorno_prewitt, contorno_scharr]\n",
        "titulos = ['Original', 'Filtro Sobel', 'Filtro Roberts', 'Filtro Prewitt', 'Filtro Scharr']\n",
        "\n",
        "fig = plt.figure(figsize=(10, 20))\n",
        "for i in range(1, 5+1):\n",
        "    fig.add_subplot(linhas, colunas, i)\n",
        "    plt.imshow(imagens[i-1], cmap='gray')\n",
        "    plt.title(titulos[i-1])\n",
        "    plt.axis('off')\n",
        "    plt.subplots_adjust(bottom=0.1, top=0.4)\n",
        "\n",
        "plt.show()"
      ],
      "execution_count": 0,
      "outputs": []
    },
    {
      "cell_type": "code",
      "metadata": {
        "id": "jQRiCFAryJVf",
        "colab_type": "code",
        "colab": {}
      },
      "source": [
        ""
      ],
      "execution_count": 0,
      "outputs": []
    }
  ]
}